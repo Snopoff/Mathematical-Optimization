{
 "cells": [
  {
   "cell_type": "markdown",
   "metadata": {},
   "source": [
    "# Minima of functions\n",
    "\n",
    "## Minima of a function of one variable\n",
    "1. алгоритм метод деления отрезка попалам\n",
    "2. метод золотого сечения\n",
    "3. метод парабол\n",
    "4. метод ньютона\n",
    "\n",
    "## Minima of a function of several variables\n",
    "1. Метод ньютона многомерной минимизации\n",
    "2. Метод штрафных функций"
   ]
  },
  {
   "cell_type": "code",
   "execution_count": null,
   "metadata": {},
   "outputs": [],
   "source": []
  }
 ],
 "metadata": {
  "kernelspec": {
   "display_name": "Python 3",
   "language": "python",
   "name": "python3"
  },
  "language_info": {
   "codemirror_mode": {
    "name": "ipython",
    "version": 3
   },
   "file_extension": ".py",
   "mimetype": "text/x-python",
   "name": "python",
   "nbconvert_exporter": "python",
   "pygments_lexer": "ipython3",
   "version": "3.7.6"
  }
 },
 "nbformat": 4,
 "nbformat_minor": 2
}
